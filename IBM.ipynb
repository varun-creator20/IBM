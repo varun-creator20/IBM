{
 "cells": [
  {
   "cell_type": "markdown",
   "id": "1491fab0",
   "metadata": {},
   "source": [
    "Exercise 2 - Create a markdown cell with the title of the notebook. (1 pt)"
   ]
  },
  {
   "cell_type": "markdown",
   "id": "2a14a708",
   "metadata": {},
   "source": [
    "# Data Science Overview\n"
   ]
  },
  {
   "cell_type": "markdown",
   "id": "1ce79c2e",
   "metadata": {},
   "source": [
    "Exercise 3 - Create a markdown cell for an introduction. (1 pt)"
   ]
  },
  {
   "cell_type": "markdown",
   "id": "7d854449",
   "metadata": {},
   "source": [
    "# Introduction\n",
    "In this notebook, we will explore key concepts in Data Science, including popular programming languages, libraries, and tools used in the field. Additionally, we will demonstrate arithmetic expressions and unit conversions through coding examples.\n"
   ]
  },
  {
   "cell_type": "markdown",
   "id": "9e078416",
   "metadata": {},
   "source": [
    "Exercise 4 - Create a markdown cell to list data science languages. (3 pts)"
   ]
  },
  {
   "cell_type": "markdown",
   "id": "24ee7882",
   "metadata": {},
   "source": [
    "## Data Science Languages\n",
    "Some common languages used in Data Science are:\n",
    "- Python\n",
    "- R\n",
    "- SQL\n",
    "- Julia\n",
    "- Java\n",
    "- Scala\n"
   ]
  },
  {
   "cell_type": "markdown",
   "id": "f43f37ac",
   "metadata": {},
   "source": [
    "Exercise 5 - Create a markdown cell to list data science libraries. (3 pts)"
   ]
  },
  {
   "cell_type": "markdown",
   "id": "183514e6",
   "metadata": {},
   "source": [
    "## Data Science Libraries\n",
    "Popular libraries used in Data Science include:\n",
    "- Pandas\n",
    "- NumPy\n",
    "- Scikit-learn\n",
    "- Matplotlib\n",
    "- Seaborn\n",
    "- TensorFlow\n",
    "- PyTorch\n",
    "- Keras\n"
   ]
  },
  {
   "cell_type": "markdown",
   "id": "8a732996",
   "metadata": {},
   "source": [
    "Exercise 6 - Create a markdown cell with a table of Data Science tools. (3 pts)"
   ]
  },
  {
   "cell_type": "markdown",
   "id": "c090678b",
   "metadata": {},
   "source": [
    "## Data Science Tools\n",
    "\n",
    "| Tool         | Description                                          |\n",
    "|--------------|------------------------------------------------------|\n",
    "| Jupyter      | An open-source web application for creating notebooks |\n",
    "| GitHub       | A platform for version control and collaboration     |\n",
    "| Tableau      | A data visualization tool                           |\n",
    "| Excel        | A spreadsheet tool with basic data analysis features |\n",
    "| Apache Spark | A unified analytics engine for big data processing  |\n"
   ]
  },
  {
   "cell_type": "markdown",
   "id": "f8da2d5a",
   "metadata": {},
   "source": [
    "Exercise 7 - Create a markdown cell introducing arithmetic expression examples. (1 pt)"
   ]
  },
  {
   "cell_type": "markdown",
   "id": "a44e7ed8",
   "metadata": {},
   "source": [
    "## Arithmetic Expression Examples\n",
    "In this section, we will demonstrate how to perform basic arithmetic operations such as addition and multiplication in Python.\n"
   ]
  },
  {
   "cell_type": "markdown",
   "id": "2a1295c5",
   "metadata": {},
   "source": [
    "Exercise 8 - Create a code cell to multiply and add numbers. (2 pts)"
   ]
  },
  {
   "cell_type": "markdown",
   "id": "3a60a880",
   "metadata": {},
   "source": [
    "# Multiplication and Addition\n",
    "num1 = 5\n",
    "num2 = 3\n",
    "\n",
    "# Multiply\n",
    "product = num1 * num2\n",
    "\n",
    "# Add\n",
    "sum_result = num1 + num2\n",
    "\n",
    "product, sum_result\n"
   ]
  },
  {
   "cell_type": "markdown",
   "id": "838c1c07",
   "metadata": {},
   "source": [
    "Exercise 9 - Create a code cell to convert minutes to hours. (2 pts)"
   ]
  },
  {
   "cell_type": "markdown",
   "id": "3bb9e88f",
   "metadata": {},
   "source": [
    "# Convert Minutes to Hours\n",
    "def minutes_to_hours(minutes):\n",
    "    hours = minutes / 60\n",
    "    return hours\n",
    "\n",
    "# Example: Convert 120 minutes to hours\n",
    "minutes = 120\n",
    "minutes_to_hours(minutes)\n"
   ]
  },
  {
   "cell_type": "markdown",
   "id": "aba3a4ce",
   "metadata": {},
   "source": [
    "Exercise 10 - Insert a markdown cell to list Objectives. (3 pts)"
   ]
  },
  {
   "cell_type": "markdown",
   "id": "db5554de",
   "metadata": {},
   "source": [
    "## Objectives\n",
    "- Understand key data science languages and libraries.\n",
    "- Learn how to use various data science tools.\n",
    "- Implement basic arithmetic expressions and conversions in Python.\n"
   ]
  },
  {
   "cell_type": "markdown",
   "id": "3b885787",
   "metadata": {},
   "source": [
    "Exercise 11 - Create a markdown cell to indicate the Author’s name. (2 pts)"
   ]
  },
  {
   "cell_type": "markdown",
   "id": "4fb7dcd5",
   "metadata": {},
   "source": [
    "## Author\n",
    "This notebook was created by Varun Upadhyay.\n"
   ]
  },
  {
   "cell_type": "code",
   "execution_count": null,
   "id": "0cfaf898",
   "metadata": {},
   "outputs": [],
   "source": []
  }
 ],
 "metadata": {
  "kernelspec": {
   "display_name": "Python 3 (ipykernel)",
   "language": "python",
   "name": "python3"
  },
  "language_info": {
   "codemirror_mode": {
    "name": "ipython",
    "version": 3
   },
   "file_extension": ".py",
   "mimetype": "text/x-python",
   "name": "python",
   "nbconvert_exporter": "python",
   "pygments_lexer": "ipython3",
   "version": "3.10.9"
  }
 },
 "nbformat": 4,
 "nbformat_minor": 5
}
